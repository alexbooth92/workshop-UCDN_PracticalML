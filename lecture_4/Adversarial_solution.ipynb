{
  "cells": [
    {
      "cell_type": "markdown",
      "id": "neTTSfavkDt2",
      "metadata": {
        "id": "neTTSfavkDt2"
      },
      "source": [
        "# Adversarial - Robustness of image classification\n",
        "\n",
        "    Copyright (C) 2020 Adrian Bevan, and 2023, 2024 Abbey Waldron\n",
        "    and Alexander Booth Queen Mary University of London\n",
        "\n",
        "    This program is free software: you can redistribute it and/or modify\n",
        "    it under the terms of the GNU General Public License as published by\n",
        "    the Free Software Foundation, either version 3 of the License, or\n",
        "    (at your option) any later version.\n",
        "\n",
        "    This program is distributed in the hope that it will be useful,\n",
        "    but WITHOUT ANY WARRANTY; without even the implied warranty of\n",
        "    MERCHANTABILITY or FITNESS FOR A PARTICULAR PURPOSE.  See the\n",
        "    GNU General Public License for more details.\n",
        "\n",
        "    You should have received a copy of the GNU General Public License\n",
        "    along with this program.  If not, see <https://www.gnu.org/licenses/>.\n",
        "    \n",
        "----------------------\n",
        "\n",
        "In this notebook we will explore a method to generate an adversial example instance. Namely, we'll create an image that has been specifically designed to cause a model to make a mistake when classifying it despite resembling a valid input for a human.  \n",
        "\n",
        "----------------------"
      ]
    },
    {
      "cell_type": "code",
      "execution_count": null,
      "id": "7413aa41",
      "metadata": {
        "id": "7413aa41"
      },
      "outputs": [],
      "source": [
        "import numpy as np\n",
        "import matplotlib.pyplot as plt\n",
        "%matplotlib inline\n",
        "import tensorflow as tf\n",
        "from cleverhans.tf2.attacks.fast_gradient_method import fast_gradient_method\n",
        "from PIL import Image\n",
        "import requests"
      ]
    },
    {
      "cell_type": "code",
      "execution_count": null,
      "id": "0eb02dc7",
      "metadata": {
        "id": "0eb02dc7"
      },
      "outputs": [],
      "source": [
        "# read in an image\n",
        "url = 'https://www.huntsmarine.com.au/cdn/shop/articles/620_Fishfisher_24_2048x2048.jpg?v=1701991259'\n",
        "im = np.array(Image.open(requests.get(url, stream=True).raw), dtype=float)\n",
        "im /= 255.\n"
      ]
    },
    {
      "cell_type": "markdown",
      "id": "80594185",
      "metadata": {
        "id": "80594185"
      },
      "source": [
        "**Use tf.image.resize to resize the image to (224,224) as MobileNet will expect.  Plot the image.**"
      ]
    },
    {
      "cell_type": "code",
      "execution_count": null,
      "id": "7edf7693",
      "metadata": {
        "id": "7edf7693"
      },
      "outputs": [],
      "source": [
        "im_resized = tf.image.resize(im, (224, 224))\n",
        "plt.imshow(im_resized)"
      ]
    },
    {
      "cell_type": "markdown",
      "source": [
        "**We need to reshape the image too to feed into the MobileNet.**"
      ],
      "metadata": {
        "id": "H3UQJmhKqGAr"
      },
      "id": "H3UQJmhKqGAr"
    },
    {
      "cell_type": "code",
      "source": [
        "im_reshaped = np.expand_dims(im_resized, axis=0)\n",
        "print(np.shape(im_reshaped))"
      ],
      "metadata": {
        "id": "0SxQ3hIQqVIy"
      },
      "id": "0SxQ3hIQqVIy",
      "execution_count": null,
      "outputs": []
    },
    {
      "cell_type": "code",
      "execution_count": null,
      "id": "e071c16a",
      "metadata": {
        "id": "e071c16a"
      },
      "outputs": [],
      "source": [
        "# get a pre-trained model that hopefully works on your image\n",
        "from tensorflow.keras.applications import MobileNet\n",
        "\n",
        "pre_trained_model = MobileNet(weights='imagenet')\n",
        "# just to make sure you don't accidentally change these parameters\n",
        "pre_trained_model.trainable = False\n",
        "\n",
        "model = tf.keras.models.Sequential()\n",
        "model.add(pre_trained_model)"
      ]
    },
    {
      "cell_type": "markdown",
      "id": "919a3b8b",
      "metadata": {
        "id": "919a3b8b"
      },
      "source": [
        "**Use model.predict to get the predicted class, what is it?  What is the confidence of the prediction?**  Tip - you can find the image net class list e.g. here: https://gist.github.com/yrevar/942d3a0ac09ec9e5eb3a"
      ]
    },
    {
      "cell_type": "code",
      "execution_count": null,
      "id": "a820dab4",
      "metadata": {
        "id": "a820dab4"
      },
      "outputs": [],
      "source": [
        "model.predict(im_reshaped)\n",
        "# Target class.\n",
        "np.argmax(model.predict(im_reshaped))\n",
        "# Confidence\n",
        "np.max(model.predict(im_reshaped))"
      ]
    },
    {
      "cell_type": "code",
      "execution_count": null,
      "id": "c1b1c5c1",
      "metadata": {
        "id": "c1b1c5c1"
      },
      "outputs": [],
      "source": [
        "# now let's hack it\n",
        "target_class = 849 # teapot\n",
        "max_iter = 100\n",
        "eps = 0.001\n",
        "target_class_as_array = np.array([target_class])\n"
      ]
    },
    {
      "cell_type": "markdown",
      "id": "1ce143a8",
      "metadata": {
        "id": "1ce143a8"
      },
      "source": [
        "The code in the following cell gives an outline of a fast gradient descent attack.  Give it the right inputs so you can use it on the image you found previously.  You need to make some changes in the code to make it work!"
      ]
    },
    {
      "cell_type": "code",
      "execution_count": null,
      "id": "966ffe43",
      "metadata": {
        "id": "966ffe43"
      },
      "outputs": [],
      "source": [
        "# CODE IN THIS CELL DOES NOT WORK YET - MAKE IT WORK!\n",
        "\n",
        "current_confidence = 0.0\n",
        "\n",
        "#### remember to define the image_array\n",
        "image_array = im_reshaped\n",
        "\n",
        "i = 0\n",
        "im_hacked = fast_gradient_method(model,image_array,eps,np.inf,y=target_class_as_array,targeted=True)\n",
        "while (current_confidence < 0.9) and (i < max_iter):\n",
        "    im_hacked = fast_gradient_method(model,im_hacked,eps,np.inf,y=target_class_as_array,targeted=True)\n",
        "    ##### UPDATE THE CURRENT CONFIDENCE IN HERE ##########\n",
        "    current_confidence = model.predict(im_hacked)[0][target_class]\n",
        "    ######################################################\n",
        "    print(current_confidence)\n",
        "    i += 1"
      ]
    },
    {
      "cell_type": "markdown",
      "id": "2894f071",
      "metadata": {
        "id": "2894f071"
      },
      "source": [
        "**What is the predicted class of the image now?  What is the confidence?**"
      ]
    },
    {
      "cell_type": "code",
      "execution_count": null,
      "id": "4b6b042d",
      "metadata": {
        "id": "4b6b042d"
      },
      "outputs": [],
      "source": [
        "# New predicted class.\n",
        "np.argmax(model.predict(im_hacked))"
      ]
    },
    {
      "cell_type": "markdown",
      "id": "45cdc46e",
      "metadata": {
        "id": "45cdc46e"
      },
      "source": [
        "**Plot the new version of the image.  Can you tell the difference?**"
      ]
    },
    {
      "cell_type": "code",
      "execution_count": null,
      "id": "7e2c8f59",
      "metadata": {
        "id": "7e2c8f59"
      },
      "outputs": [],
      "source": [
        "plt.imshow(im_hacked[0])"
      ]
    },
    {
      "cell_type": "markdown",
      "id": "ebbc1d46",
      "metadata": {
        "id": "ebbc1d46"
      },
      "source": [
        "**Now plot the difference between the original and new images, you may need to multiply it be 100 if you can't see anything**"
      ]
    },
    {
      "cell_type": "code",
      "execution_count": null,
      "id": "770e52e6",
      "metadata": {
        "id": "770e52e6"
      },
      "outputs": [],
      "source": [
        "plt.imshow((im_hacked[0]-im_try[0]))"
      ]
    },
    {
      "cell_type": "code",
      "execution_count": null,
      "id": "b626f035-62b3-4105-9452-db39c9268b5e",
      "metadata": {
        "id": "b626f035-62b3-4105-9452-db39c9268b5e"
      },
      "outputs": [],
      "source": [
        "plt.imshow((im_hacked[0]-im_try[0])*100)"
      ]
    },
    {
      "cell_type": "markdown",
      "id": "b483784d",
      "metadata": {
        "id": "b483784d"
      },
      "source": [
        "**What happens when you change the parameter eps?  Remember you might need to change max_iter if you hit it**"
      ]
    }
  ],
  "metadata": {
    "colab": {
      "provenance": []
    },
    "kernelspec": {
      "display_name": "Python 3 (ipykernel)",
      "language": "python",
      "name": "python3"
    },
    "language_info": {
      "codemirror_mode": {
        "name": "ipython",
        "version": 3
      },
      "file_extension": ".py",
      "mimetype": "text/x-python",
      "name": "python",
      "nbconvert_exporter": "python",
      "pygments_lexer": "ipython3",
      "version": "3.10.14"
    }
  },
  "nbformat": 4,
  "nbformat_minor": 5
}
